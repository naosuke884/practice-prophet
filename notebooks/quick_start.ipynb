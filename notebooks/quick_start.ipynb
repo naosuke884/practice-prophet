{
 "cells": [
  {
   "cell_type": "markdown",
   "metadata": {},
   "source": [
    " # description\n",
    "\n",
    " Follow [the document](https://facebook.github.io/prophet/docs/quick_start.html)"
   ]
  },
  {
   "cell_type": "code",
   "execution_count": null,
   "metadata": {},
   "outputs": [],
   "source": [
    "# %%\n",
    "import pandas as pd\n",
    "from prophet import Prophet\n"
   ]
  },
  {
   "cell_type": "code",
   "execution_count": null,
   "metadata": {},
   "outputs": [],
   "source": [
    "# %%\n",
    "# A time series of the log daily page views for the Wikipedia page for [Python Manning](https://en.wikipedia.org/wiki/Peyton_Manning).\n",
    "df = pd.read_csv(\n",
    "    \"https://raw.githubusercontent.com/facebook/prophet/main/examples/example_wp_log_peyton_manning.csv\"\n",
    ")\n",
    "df.head()"
   ]
  },
  {
   "cell_type": "code",
   "execution_count": null,
   "metadata": {},
   "outputs": [],
   "source": [
    "# %%\n",
    "df.info()"
   ]
  },
  {
   "cell_type": "code",
   "execution_count": null,
   "metadata": {},
   "outputs": [],
   "source": [
    "# %%\n",
    "model = Prophet()\n"
   ]
  },
  {
   "cell_type": "code",
   "execution_count": null,
   "metadata": {},
   "outputs": [],
   "source": [
    "# %%\n",
    "# fit\n",
    "model.fit(df)"
   ]
  },
  {
   "cell_type": "code",
   "execution_count": null,
   "metadata": {},
   "outputs": [],
   "source": [
    "# %%\n",
    "# Return only the ds column with historical data and one year of future data.\n",
    "future = model.make_future_dataframe(periods=365)\n",
    "future.tail()"
   ]
  },
  {
   "cell_type": "code",
   "execution_count": null,
   "metadata": {},
   "outputs": [],
   "source": [
    "# %%\n",
    "# Predict future.\n",
    "# TODO: What uncertainly interval ?\n",
    "# Uncertainty interval: [yhat_lower, yhat_upper].\n",
    "forecast = model.predict(future)\n",
    "forecast[[\"ds\", \"yhat\", \"yhat_lower\", \"yhat_upper\"]].tail()\n"
   ]
  },
  {
   "cell_type": "code",
   "execution_count": null,
   "metadata": {},
   "outputs": [],
   "source": [
    "# %%\n",
    "fig_plot = model.plot(forecast)"
   ]
  },
  {
   "cell_type": "code",
   "execution_count": null,
   "metadata": {},
   "outputs": [],
   "source": [
    "# %%\n",
    "# Plot every component which be trend, weekly or yearly.\n",
    "fig_plot_components = model.plot_components(forecast)"
   ]
  },
  {
   "cell_type": "code",
   "execution_count": null,
   "metadata": {},
   "outputs": [],
   "source": [
    "# %%\n",
    "# interactive plot with plotly\n",
    "# need additional installing package\n",
    "from prophet.plot import plot_plotly\n",
    "\n",
    "plot_plotly(model, forecast)\n"
   ]
  },
  {
   "cell_type": "code",
   "execution_count": null,
   "metadata": {},
   "outputs": [],
   "source": [
    "# %%\n",
    "from prophet.plot import plot_components_plotly\n",
    "\n",
    "plot_components_plotly(model, forecast)\n"
   ]
  }
 ],
 "metadata": {
  "language_info": {
   "codemirror_mode": {
    "name": "ipython",
    "version": 3
   },
   "file_extension": ".py",
   "mimetype": "text/x-python",
   "name": "python",
   "nbconvert_exporter": "python",
   "pygments_lexer": "ipython3",
   "version": 3
  }
 },
 "nbformat": 4,
 "nbformat_minor": 2
}
